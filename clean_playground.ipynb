{
 "cells": [
  {
   "cell_type": "code",
   "execution_count": 46,
   "metadata": {},
   "outputs": [],
   "source": [
    "from model import *\n",
    "from torch_utils import *\n",
    "import requests\n",
    "import json"
   ]
  },
  {
   "cell_type": "markdown",
   "metadata": {},
   "source": [
    "# Create and train the model"
   ]
  },
  {
   "cell_type": "code",
   "execution_count": 94,
   "metadata": {},
   "outputs": [
    {
     "name": "stdout",
     "output_type": "stream",
     "text": [
      "length of dataset in characters:  1115394\n",
      "\n",
      " !$&',-.3:;?ABCDEFGHIJKLMNOPQRSTUVWXYZabcdefghijklmnopqrstuvwxyz\n",
      "65\n",
      "0.209729 M parameters\n",
      "DATE : \n",
      "2024-08-01 16:50:18.157166\n",
      "step 0: train loss 4.4113, val loss 4.4094\n",
      "step 100: train loss 2.6845, val loss 2.6913\n",
      "step 200: train loss 2.5195, val loss 2.5275\n",
      "step 300: train loss 2.4428, val loss 2.4415\n",
      "step 400: train loss 2.3762, val loss 2.3896\n",
      "step 500: train loss 2.3225, val loss 2.3498\n",
      "step 600: train loss 2.2577, val loss 2.2730\n",
      "step 700: train loss 2.2180, val loss 2.2389\n",
      "step 800: train loss 2.1546, val loss 2.1755\n",
      "step 900: train loss 2.1306, val loss 2.1650\n",
      "step 1000: train loss 2.0962, val loss 2.1332\n",
      "step 1100: train loss 2.0660, val loss 2.1102\n",
      "step 1200: train loss 2.0405, val loss 2.0918\n",
      "step 1300: train loss 2.0032, val loss 2.0641\n",
      "step 1400: train loss 1.9798, val loss 2.0468\n",
      "step 1500: train loss 1.9789, val loss 2.0522\n",
      "step 1600: train loss 1.9345, val loss 2.0205\n",
      "step 1700: train loss 1.9169, val loss 2.0045\n",
      "step 1800: train loss 1.8969, val loss 1.9954\n",
      "step 1900: train loss 1.8965, val loss 1.9915\n",
      "step 2000: train loss 1.8656, val loss 1.9678\n",
      "step 2100: train loss 1.8522, val loss 1.9534\n",
      "step 2200: train loss 1.8510, val loss 1.9407\n",
      "step 2300: train loss 1.8336, val loss 1.9414\n",
      "step 2400: train loss 1.8276, val loss 1.9337\n",
      "step 2500: train loss 1.8054, val loss 1.9327\n",
      "step 2600: train loss 1.8057, val loss 1.9325\n",
      "step 2700: train loss 1.7862, val loss 1.9177\n",
      "step 2800: train loss 1.7796, val loss 1.9078\n",
      "step 2900: train loss 1.7690, val loss 1.9195\n",
      "step 3000: train loss 1.7565, val loss 1.9008\n",
      "step 3100: train loss 1.7446, val loss 1.8955\n",
      "step 3200: train loss 1.7626, val loss 1.8895\n",
      "step 3300: train loss 1.7337, val loss 1.8771\n",
      "step 3400: train loss 1.7343, val loss 1.8901\n",
      "step 3500: train loss 1.7150, val loss 1.8672\n",
      "step 3600: train loss 1.7211, val loss 1.8483\n",
      "step 3700: train loss 1.7212, val loss 1.8669\n",
      "step 3800: train loss 1.7048, val loss 1.8489\n",
      "step 3900: train loss 1.7003, val loss 1.8402\n",
      "step 4000: train loss 1.7007, val loss 1.8396\n",
      "step 4100: train loss 1.6988, val loss 1.8487\n",
      "step 4200: train loss 1.6986, val loss 1.8561\n",
      "step 4300: train loss 1.6841, val loss 1.8500\n",
      "step 4400: train loss 1.6786, val loss 1.8346\n",
      "step 4500: train loss 1.6783, val loss 1.8250\n",
      "step 4600: train loss 1.6671, val loss 1.8104\n",
      "step 4700: train loss 1.6683, val loss 1.8223\n",
      "step 4800: train loss 1.6622, val loss 1.8236\n",
      "step 4900: train loss 1.6658, val loss 1.8175\n",
      "step 4999: train loss 1.6498, val loss 1.8129\n",
      "\n",
      "WARWICK:\n",
      "So their arm.\n",
      "\n",
      "HAS:\n",
      "It, Losdamies,\n",
      "That offeent out o'er year what cut, it what\n",
      "In bysomes, a apoinse than that goods,\n",
      "Eadper rend in how I covell'd father,\n",
      "I Juage desed of Prevence; the kno\n",
      "DATE : \n",
      "2024-08-01 16:52:58.439818\n"
     ]
    }
   ],
   "source": [
    "with open('input.txt', 'r', encoding='utf-8') as f:\n",
    "    text = f.read()\n",
    "\n",
    "print(\"length of dataset in characters: \", len(text))\n",
    "\n",
    "# print(text[:1000])\n",
    "\n",
    "chars = sorted(list(set(text)))\n",
    "vocab_size = len(chars)\n",
    "print(''.join(chars))\n",
    "print(vocab_size)\n",
    "\n",
    "stoi = { ch:i for i,ch in enumerate(chars) }\n",
    "itos = { i:ch for i,ch in enumerate(chars) }\n",
    "encode = lambda s: [stoi[c] for c in s] # encoder: take a string, output a list of integers\n",
    "decode = lambda l: ''.join([itos[i] for i in l]) # decoder: take a list of integers, output a string\n",
    "\n",
    "data = torch.tensor(encode(text), dtype=torch.long)\n",
    "\n",
    "max_iters = 500\n",
    "eval_interval = 100\n",
    "learning_rate = 1e-3\n",
    "eval_iters = 200\n",
    "n = int(0.9*len(data)) # first 90% will be train, rest val\n",
    "train_data = data[:n]\n",
    "val_data = data[n:]\n",
    "# data loading\n",
    "\n",
    "\n",
    "\n",
    "model = BigramLanguageModel()\n",
    "m = model.to(device)\n",
    "# print the number of parameters in the model\n",
    "print(sum(p.numel() for p in m.parameters())/1e6, 'M parameters')\n",
    "\n",
    "\n",
    "print(\"DATE : \")\n",
    "print(datetime.now())\n",
    "\n",
    "train_model(m, train_data, val_data, block_size, batch_size, 5000, learning_rate, eval_iters, eval_interval)\n",
    "# generate from the model\n",
    "context = torch.zeros((1, 1), dtype=torch.long, device=device)\n",
    "print(decode(m.generate(context, max_new_tokens=200)[0].tolist()))\n",
    "\n",
    "print(\"DATE : \")\n",
    "print(datetime.now())"
   ]
  },
  {
   "cell_type": "markdown",
   "metadata": {},
   "source": [
    "# Save the weights"
   ]
  },
  {
   "cell_type": "code",
   "execution_count": 95,
   "metadata": {},
   "outputs": [],
   "source": [
    "block_weights = [block.state_dict() for block in m.blocks]\n",
    "torch.save(block_weights, 'block_weights.pth')"
   ]
  },
  {
   "cell_type": "markdown",
   "metadata": {},
   "source": [
    "# Distributed Block"
   ]
  },
  {
   "cell_type": "code",
   "execution_count": 49,
   "metadata": {},
   "outputs": [],
   "source": [
    "def call_block_forward(block, input_tensor):\n",
    "    url = f\"http://127.0.0.1:8000/block{block}/forward\"\n",
    "    headers = {\"Content-Type\": \"application/json\"}\n",
    "    data = {\"input_tensor\": input_tensor.tolist()}\n",
    "    # print(input_tensor)\n",
    "    # print(\"PRE POST\")\n",
    "    response = requests.post(url, headers=headers, data=json.dumps(data))\n",
    "    # print(\"POST POST\")\n",
    "    \n",
    "    if response.status_code == 200:\n",
    "        output = response.json()[\"output\"]\n",
    "        return output\n",
    "    else:\n",
    "        print(f\"Error: {response.status_code}\")\n",
    "        return None\n",
    "class DistribBlock(nn.Module):\n",
    "    \"\"\" Transformer block: communication followed by computation \"\"\"\n",
    "    def __init__(self, block_num):\n",
    "        super().__init__()\n",
    "        self.block_num = block_num\n",
    "        \n",
    "    def forward(self, x):\n",
    "        res = call_block_forward(self.block_num, x)\n",
    "        tensor = torch.tensor(res, dtype=torch.float32).to(device)\n",
    "        return tensor"
   ]
  },
  {
   "cell_type": "code",
   "execution_count": 50,
   "metadata": {},
   "outputs": [],
   "source": [
    "b1 = DistribBlock(\"1\")\n",
    "b2 = DistribBlock(\"2\")\n",
    "b3 = DistribBlock(\"3\")\n",
    "b4 = DistribBlock(\"4\")"
   ]
  },
  {
   "cell_type": "code",
   "execution_count": 92,
   "metadata": {},
   "outputs": [],
   "source": [
    "m.blocks = nn.Sequential(b1, b2, b3, b4)"
   ]
  },
  {
   "cell_type": "code",
   "execution_count": 89,
   "metadata": {},
   "outputs": [
    {
     "name": "stdout",
     "output_type": "stream",
     "text": [
      "209729 parameters\n"
     ]
    }
   ],
   "source": [
    "print(sum(p.numel() for p in m.parameters()), 'parameters') # 10561 vs 209729 for the full one"
   ]
  },
  {
   "cell_type": "code",
   "execution_count": 56,
   "metadata": {},
   "outputs": [
    {
     "data": {
      "text/plain": [
       "0.05035545871100325"
      ]
     },
     "execution_count": 56,
     "metadata": {},
     "output_type": "execute_result"
    }
   ],
   "source": [
    "10561/209729"
   ]
  },
  {
   "cell_type": "code",
   "execution_count": 55,
   "metadata": {},
   "outputs": [
    {
     "name": "stdout",
     "output_type": "stream",
     "text": [
      "\n",
      "HORTo beausd.\n",
      "\n",
      "POMPEY:\n",
      "Lethere belione thou day: where to me's I thung conspiught of this contrangeds on.\n",
      "What joy, who and: what hisfency to doth then ofther bothoutians did,\n",
      "Syeed from this to him s\n"
     ]
    }
   ],
   "source": [
    "print(decode(m.generate(context, max_new_tokens=200)[0].tolist()))"
   ]
  },
  {
   "cell_type": "code",
   "execution_count": 57,
   "metadata": {},
   "outputs": [],
   "source": [
    "b= Block(n_embd, n_head=n_head)"
   ]
  },
  {
   "cell_type": "code",
   "execution_count": 59,
   "metadata": {},
   "outputs": [
    {
     "name": "stdout",
     "output_type": "stream",
     "text": [
      "16448 parameters\n"
     ]
    }
   ],
   "source": [
    "print(sum(p.numel() for p in b.sa.parameters()), 'parameters') # 10561 vs 209729 for the full one"
   ]
  },
  {
   "cell_type": "code",
   "execution_count": 61,
   "metadata": {},
   "outputs": [],
   "source": [
    "blocks = m.blocks"
   ]
  },
  {
   "cell_type": "code",
   "execution_count": 70,
   "metadata": {},
   "outputs": [],
   "source": [
    "b0 = blocks[0]"
   ]
  },
  {
   "cell_type": "code",
   "execution_count": 75,
   "metadata": {},
   "outputs": [
    {
     "data": {
      "text/plain": [
       "Head(\n",
       "  (key): Linear(in_features=64, out_features=16, bias=False)\n",
       "  (query): Linear(in_features=64, out_features=16, bias=False)\n",
       "  (value): Linear(in_features=64, out_features=16, bias=False)\n",
       "  (dropout): Dropout(p=0.0, inplace=False)\n",
       ")"
      ]
     },
     "execution_count": 75,
     "metadata": {},
     "output_type": "execute_result"
    }
   ],
   "source": [
    "b0.sa.heads[0]"
   ]
  },
  {
   "cell_type": "code",
   "execution_count": 80,
   "metadata": {},
   "outputs": [
    {
     "name": "stdout",
     "output_type": "stream",
     "text": [
      "3072 parameters\n"
     ]
    }
   ],
   "source": [
    "print(sum(p.numel() for p in b0.sa.heads[0].parameters()), 'parameters')"
   ]
  },
  {
   "cell_type": "code",
   "execution_count": 81,
   "metadata": {},
   "outputs": [
    {
     "name": "stdout",
     "output_type": "stream",
     "text": [
      "49792 parameters\n"
     ]
    }
   ],
   "source": [
    "print(sum(p.numel() for p in b0.parameters()), 'parameters')"
   ]
  },
  {
   "cell_type": "code",
   "execution_count": 83,
   "metadata": {},
   "outputs": [
    {
     "name": "stdout",
     "output_type": "stream",
     "text": [
      "33088 parameters\n"
     ]
    }
   ],
   "source": [
    "print(sum(p.numel() for p in b0.ffwd.parameters()), 'parameters')"
   ]
  },
  {
   "cell_type": "code",
   "execution_count": 140,
   "metadata": {},
   "outputs": [],
   "source": [
    "def call_head_forward(block, head, input_tensor):\n",
    "    url = f\"http://127.0.0.1:8000/block_{block}/head_{head}/forward\"\n",
    "    headers = {\"Content-Type\": \"application/json\"}\n",
    "    data = {\"input_tensor\": input_tensor.tolist()}\n",
    "    # print(input_tensor)\n",
    "    # print(\"PRE POST\")\n",
    "    response = requests.post(url, headers=headers, data=json.dumps(data))\n",
    "    # print(\"POST POST\")\n",
    "    \n",
    "    if response.status_code == 200:\n",
    "        output = response.json()[\"output\"]\n",
    "        return output\n",
    "    else:\n",
    "        print(f\"Error: {response.status_code}\")\n",
    "        return None\n",
    "    \n",
    "\n",
    "class HeadDistributed(nn.Module):\n",
    "    \"\"\" one head of self-attention \"\"\"\n",
    "\n",
    "    def __init__(self, block_id, head_id):\n",
    "        super().__init__()\n",
    "        self.block_id = block_id\n",
    "        self.head_id  = head_id\n",
    "\n",
    "    def forward(self, x):\n",
    "        res = call_head_forward(self.block_id, self.head_id, x)\n",
    "        tensor = torch.tensor(res, dtype=torch.float32).to(device)\n",
    "        return tensor\n",
    "    \n",
    "class HeadDistributedCreate(nn.Module):\n",
    "    \"\"\" one head of self-attention \"\"\"\n",
    "\n",
    "    def __init__(self, head_size, block_id, head_id):\n",
    "        super().__init__()\n",
    "        self.key = nn.Linear(n_embd, head_size, bias=False)\n",
    "        self.query = nn.Linear(n_embd, head_size, bias=False)\n",
    "        self.value = nn.Linear(n_embd, head_size, bias=False)\n",
    "        self.register_buffer('tril', torch.tril(torch.ones(block_size, block_size)))\n",
    "\n",
    "        self.dropout = nn.Dropout(dropout)\n",
    "        self.block_id = block_id\n",
    "        self.head_id  = head_id\n",
    "\n",
    "    def forward(self, x):\n",
    "        B,T,C = x.shape\n",
    "        k = self.key(x)   # (B,T,C)\n",
    "        q = self.query(x) # (B,T,C)\n",
    "        # compute attention scores (\"affinities\")\n",
    "        wei = q @ k.transpose(-2,-1) * C**-0.5 # (B, T, C) @ (B, C, T) -> (B, T, T)\n",
    "        wei = wei.masked_fill(self.tril[:T, :T] == 0, float('-inf')) # (B, T, T)\n",
    "        wei = F.softmax(wei, dim=-1) # (B, T, T)\n",
    "        wei = self.dropout(wei)\n",
    "        # perform the weighted aggregation of the values\n",
    "        v = self.value(x) # (B,T,C)\n",
    "        out = wei @ v # (B, T, T) @ (B, T, C) -> (B, T, C)\n",
    "        return out\n",
    "\n",
    "class MultiHeadAttentionDistributed(nn.Module):\n",
    "    \"\"\" multiple heads of self-attention in parallel \"\"\"\n",
    "\n",
    "    def __init__(self, num_heads, head_size, create_mode, block_id):\n",
    "        super().__init__()\n",
    "        if create_mode:\n",
    "            self.heads = nn.ModuleList([HeadDistributedCreate(head_size, block_id, i) for i in range(num_heads)])\n",
    "        else:\n",
    "            self.heads = nn.ModuleList([HeadDistributed(block_id, i) for i in range(num_heads)])\n",
    "        self.proj = nn.Linear(n_embd, n_embd)\n",
    "        self.dropout = nn.Dropout(dropout)\n",
    "\n",
    "    def forward(self, x):\n",
    "        out = torch.cat([h(x) for h in self.heads], dim=-1)\n",
    "        out = self.dropout(self.proj(out))\n",
    "        return out\n",
    "\n",
    "\n",
    "class BlockDistributedAttention(nn.Module):\n",
    "    \"\"\" Transformer block: communication followed by computation \"\"\"\n",
    "\n",
    "    def __init__(self, n_embd, n_head, create_mode, block_id):\n",
    "        # n_embd: embedding dimension, n_head: the number of heads we'd like\n",
    "        super().__init__()\n",
    "        head_size = n_embd // n_head\n",
    "        self.sa = MultiHeadAttentionDistributed(n_head, head_size, create_mode, block_id)\n",
    "        self.ffwd = FeedFoward(n_embd)\n",
    "        self.ln1 = nn.LayerNorm(n_embd)\n",
    "        self.ln2 = nn.LayerNorm(n_embd)\n",
    "\n",
    "    def forward(self, x):\n",
    "        x = x + self.sa(self.ln1(x))\n",
    "        x = x + self.ffwd(self.ln2(x))\n",
    "        return x"
   ]
  },
  {
   "cell_type": "code",
   "execution_count": 149,
   "metadata": {},
   "outputs": [
    {
     "name": "stderr",
     "output_type": "stream",
     "text": [
      "/var/folders/r5/tqspp0sx0vv23w304w__bj_h0000gn/T/ipykernel_72510/3041899868.py:1: FutureWarning: You are using `torch.load` with `weights_only=False` (the current default value), which uses the default pickle module implicitly. It is possible to construct malicious pickle data which will execute arbitrary code during unpickling (See https://github.com/pytorch/pytorch/blob/main/SECURITY.md#untrusted-models for more details). In a future release, the default value for `weights_only` will be flipped to `True`. This limits the functions that could be executed during unpickling. Arbitrary objects will no longer be allowed to be loaded via this mode unless they are explicitly allowlisted by the user via `torch.serialization.add_safe_globals`. We recommend you start setting `weights_only=True` for any use case where you don't have full control of the loaded file. Please open an issue on GitHub for any issues related to this experimental feature.\n",
      "  block_weights = torch.load('block_weights.pth')\n"
     ]
    }
   ],
   "source": [
    "block_weights = torch.load('block_weights.pth')\n",
    "# Load weights into the blocks\n",
    "b1 = BlockDistributedAttention(n_embd, n_head, True, \"1\")\n",
    "b2 = BlockDistributedAttention(n_embd, n_head, True, \"2\")\n",
    "b3 = BlockDistributedAttention(n_embd, n_head, True, \"3\")\n",
    "b4 = BlockDistributedAttention(n_embd, n_head, True, \"4\")\n",
    "b1.load_state_dict(block_weights[0])\n",
    "b2.load_state_dict(block_weights[1])\n",
    "b3.load_state_dict(block_weights[2])\n",
    "b4.load_state_dict(block_weights[3])\n",
    "m.blocks = nn.Sequential(b1, b2, b3, b4)"
   ]
  },
  {
   "cell_type": "code",
   "execution_count": 150,
   "metadata": {},
   "outputs": [],
   "source": [
    "def save_blocks_from_model(model):\n",
    "    blocks = model.blocks\n",
    "    for block in blocks:\n",
    "        heads = block.sa.heads\n",
    "        for head in heads:\n",
    "            head_weights = head.state_dict()\n",
    "            torch.save(head_weights, f'weights/head_{head.block_id}_{head.head_id}.pth')"
   ]
  },
  {
   "cell_type": "code",
   "execution_count": 151,
   "metadata": {},
   "outputs": [],
   "source": [
    "save_blocks_from_model(m)"
   ]
  },
  {
   "cell_type": "code",
   "execution_count": 152,
   "metadata": {},
   "outputs": [],
   "source": [
    "for b in [b1, b2, b3, b4]:\n",
    "    heads = b.sa.heads\n",
    "    new_heads = []\n",
    "    for head in heads:\n",
    "        new_head = HeadDistributed(head.block_id, head.head_id)\n",
    "        new_heads.append(new_head)\n",
    "    b.sa.heads = nn.ModuleList(new_heads)"
   ]
  },
  {
   "cell_type": "code",
   "execution_count": 154,
   "metadata": {},
   "outputs": [
    {
     "name": "stdout",
     "output_type": "stream",
     "text": [
      "\n",
      "They it I lease will hence now,\n",
      "If this by hours. When deservetion, as and oke rendo Plaled, he timper more.\n",
      "\n",
      "BUCKINGHAM:\n",
      "Ay, the wephy, matte poberself this fee fight?\n",
      "\n",
      "HASTINGS:\n",
      "That reserves mad we\n"
     ]
    }
   ],
   "source": [
    "print(decode(m.generate(context, max_new_tokens=200)[0].tolist()))"
   ]
  },
  {
   "cell_type": "code",
   "execution_count": 132,
   "metadata": {},
   "outputs": [
    {
     "name": "stdout",
     "output_type": "stream",
     "text": [
      "160577 parameters\n"
     ]
    }
   ],
   "source": [
    "print(sum(p.numel() for p in m.parameters()), 'parameters')"
   ]
  },
  {
   "cell_type": "code",
   "execution_count": 138,
   "metadata": {},
   "outputs": [
    {
     "name": "stdout",
     "output_type": "stream",
     "text": [
      "Error: 500\n"
     ]
    }
   ],
   "source": [
    "url = f\"http://127.0.0.1:8000/block_{1}/head_{2}/forward\"\n",
    "headers = {\"Content-Type\": \"application/json\"}\n",
    "data = {\"input_tensor\": [1, 2]}\n",
    "# print(input_tensor)\n",
    "# print(\"PRE POST\")\n",
    "response = requests.post(url, headers=headers, data=json.dumps(data))\n",
    "# print(\"POST POST\")\n",
    "\n",
    "if response.status_code == 200:\n",
    "    output = response.json()[\"output\"]\n",
    "else:\n",
    "    print(f\"Error: {response.status_code}\")"
   ]
  }
 ],
 "metadata": {
  "kernelspec": {
   "display_name": "Python 3",
   "language": "python",
   "name": "python3"
  },
  "language_info": {
   "codemirror_mode": {
    "name": "ipython",
    "version": 3
   },
   "file_extension": ".py",
   "mimetype": "text/x-python",
   "name": "python",
   "nbconvert_exporter": "python",
   "pygments_lexer": "ipython3",
   "version": "3.10.6"
  }
 },
 "nbformat": 4,
 "nbformat_minor": 2
}
