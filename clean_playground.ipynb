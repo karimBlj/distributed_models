{
 "cells": [
  {
   "cell_type": "code",
   "execution_count": 46,
   "metadata": {},
   "outputs": [],
   "source": [
    "from model import *\n",
    "from torch_utils import *\n",
    "import requests\n",
    "import json"
   ]
  },
  {
   "cell_type": "markdown",
   "metadata": {},
   "source": [
    "# Create and train the model"
   ]
  },
  {
   "cell_type": "code",
   "execution_count": 47,
   "metadata": {},
   "outputs": [
    {
     "name": "stdout",
     "output_type": "stream",
     "text": [
      "length of dataset in characters:  1115394\n",
      "\n",
      " !$&',-.3:;?ABCDEFGHIJKLMNOPQRSTUVWXYZabcdefghijklmnopqrstuvwxyz\n",
      "65\n",
      "0.209729 M parameters\n",
      "DATE : \n",
      "2024-07-31 14:34:20.900029\n",
      "step 0: train loss 4.3289, val loss 4.3329\n",
      "step 100: train loss 2.6524, val loss 2.6671\n",
      "step 200: train loss 2.5064, val loss 2.5083\n",
      "step 300: train loss 2.4296, val loss 2.4404\n",
      "step 400: train loss 2.3474, val loss 2.3469\n",
      "step 500: train loss 2.3066, val loss 2.3163\n",
      "step 600: train loss 2.2570, val loss 2.2657\n",
      "step 700: train loss 2.2215, val loss 2.2318\n",
      "step 800: train loss 2.1742, val loss 2.1984\n",
      "step 900: train loss 2.1274, val loss 2.1637\n",
      "step 1000: train loss 2.1290, val loss 2.1511\n",
      "step 1100: train loss 2.0831, val loss 2.1233\n",
      "step 1200: train loss 2.0576, val loss 2.1025\n",
      "step 1300: train loss 2.0258, val loss 2.0696\n",
      "step 1400: train loss 1.9978, val loss 2.0578\n",
      "step 1500: train loss 1.9756, val loss 2.0498\n",
      "step 1600: train loss 1.9677, val loss 2.0312\n",
      "step 1700: train loss 1.9381, val loss 2.0206\n",
      "step 1800: train loss 1.9300, val loss 2.0185\n",
      "step 1900: train loss 1.9145, val loss 2.0059\n",
      "step 2000: train loss 1.9012, val loss 1.9996\n",
      "step 2100: train loss 1.8811, val loss 1.9883\n",
      "step 2200: train loss 1.8767, val loss 1.9752\n",
      "step 2300: train loss 1.8546, val loss 1.9615\n",
      "step 2400: train loss 1.8452, val loss 1.9584\n",
      "step 2500: train loss 1.8279, val loss 1.9479\n",
      "step 2600: train loss 1.8123, val loss 1.9323\n",
      "step 2700: train loss 1.8189, val loss 1.9284\n",
      "step 2800: train loss 1.7973, val loss 1.9294\n",
      "step 2900: train loss 1.7836, val loss 1.8976\n",
      "step 3000: train loss 1.7813, val loss 1.9083\n",
      "step 3100: train loss 1.7783, val loss 1.8995\n",
      "step 3200: train loss 1.7468, val loss 1.8802\n",
      "step 3300: train loss 1.7480, val loss 1.8928\n",
      "step 3400: train loss 1.7451, val loss 1.8978\n",
      "step 3500: train loss 1.7419, val loss 1.8954\n",
      "step 3600: train loss 1.7256, val loss 1.8892\n",
      "step 3700: train loss 1.7220, val loss 1.8810\n",
      "step 3800: train loss 1.7214, val loss 1.8735\n",
      "step 3900: train loss 1.7079, val loss 1.8650\n",
      "step 4000: train loss 1.7164, val loss 1.8576\n",
      "step 4100: train loss 1.7114, val loss 1.8705\n",
      "step 4200: train loss 1.7029, val loss 1.8732\n",
      "step 4300: train loss 1.6960, val loss 1.8578\n",
      "step 4400: train loss 1.6821, val loss 1.8405\n",
      "step 4500: train loss 1.6766, val loss 1.8474\n",
      "step 4600: train loss 1.6805, val loss 1.8338\n",
      "step 4700: train loss 1.6728, val loss 1.8413\n",
      "step 4800: train loss 1.6647, val loss 1.8312\n",
      "step 4900: train loss 1.6739, val loss 1.8460\n",
      "step 4999: train loss 1.6596, val loss 1.8322\n",
      "\n",
      "Fare this fear, that are, an you curspand srow wounder whine women I was selloud an suppres-of our you good and do hisk? tell conting this of yould.\n",
      "Nright Hence, I know with or bed?\n",
      "\n",
      "LADY Gngiranst:\n",
      "\n",
      "DATE : \n",
      "2024-07-31 14:36:59.742324\n"
     ]
    }
   ],
   "source": [
    "with open('input.txt', 'r', encoding='utf-8') as f:\n",
    "    text = f.read()\n",
    "\n",
    "print(\"length of dataset in characters: \", len(text))\n",
    "\n",
    "# print(text[:1000])\n",
    "\n",
    "chars = sorted(list(set(text)))\n",
    "vocab_size = len(chars)\n",
    "print(''.join(chars))\n",
    "print(vocab_size)\n",
    "\n",
    "stoi = { ch:i for i,ch in enumerate(chars) }\n",
    "itos = { i:ch for i,ch in enumerate(chars) }\n",
    "encode = lambda s: [stoi[c] for c in s] # encoder: take a string, output a list of integers\n",
    "decode = lambda l: ''.join([itos[i] for i in l]) # decoder: take a list of integers, output a string\n",
    "\n",
    "data = torch.tensor(encode(text), dtype=torch.long)\n",
    "\n",
    "max_iters = 500\n",
    "eval_interval = 100\n",
    "learning_rate = 1e-3\n",
    "eval_iters = 200\n",
    "n = int(0.9*len(data)) # first 90% will be train, rest val\n",
    "train_data = data[:n]\n",
    "val_data = data[n:]\n",
    "# data loading\n",
    "\n",
    "\n",
    "\n",
    "model = BigramLanguageModel()\n",
    "m = model.to(device)\n",
    "# print the number of parameters in the model\n",
    "print(sum(p.numel() for p in m.parameters())/1e6, 'M parameters')\n",
    "\n",
    "\n",
    "print(\"DATE : \")\n",
    "print(datetime.now())\n",
    "\n",
    "train_model(m, train_data, val_data, block_size, batch_size, 5000, learning_rate, eval_iters, eval_interval)\n",
    "# generate from the model\n",
    "context = torch.zeros((1, 1), dtype=torch.long, device=device)\n",
    "print(decode(m.generate(context, max_new_tokens=200)[0].tolist()))\n",
    "\n",
    "print(\"DATE : \")\n",
    "print(datetime.now())"
   ]
  },
  {
   "cell_type": "markdown",
   "metadata": {},
   "source": [
    "# Save the weights"
   ]
  },
  {
   "cell_type": "code",
   "execution_count": 48,
   "metadata": {},
   "outputs": [],
   "source": [
    "block_weights = [block.state_dict() for block in m.blocks]\n",
    "torch.save(block_weights, 'block_weights.pth')"
   ]
  },
  {
   "cell_type": "markdown",
   "metadata": {},
   "source": [
    "# Distributed Block"
   ]
  },
  {
   "cell_type": "code",
   "execution_count": 49,
   "metadata": {},
   "outputs": [],
   "source": [
    "def call_block_forward(block, input_tensor):\n",
    "    url = f\"http://127.0.0.1:8000/block{block}/forward\"\n",
    "    headers = {\"Content-Type\": \"application/json\"}\n",
    "    data = {\"input_tensor\": input_tensor.tolist()}\n",
    "    # print(input_tensor)\n",
    "    # print(\"PRE POST\")\n",
    "    response = requests.post(url, headers=headers, data=json.dumps(data))\n",
    "    # print(\"POST POST\")\n",
    "    \n",
    "    if response.status_code == 200:\n",
    "        output = response.json()[\"output\"]\n",
    "        return output\n",
    "    else:\n",
    "        print(f\"Error: {response.status_code}\")\n",
    "        return None\n",
    "class DistribBlock(nn.Module):\n",
    "    \"\"\" Transformer block: communication followed by computation \"\"\"\n",
    "    def __init__(self, block_num):\n",
    "        super().__init__()\n",
    "        self.block_num = block_num\n",
    "        \n",
    "    def forward(self, x):\n",
    "        res = call_block_forward(self.block_num, x)\n",
    "        tensor = torch.tensor(res, dtype=torch.float32).to(device)\n",
    "        return tensor"
   ]
  },
  {
   "cell_type": "code",
   "execution_count": 50,
   "metadata": {},
   "outputs": [],
   "source": [
    "b1 = DistribBlock(\"1\")\n",
    "b2 = DistribBlock(\"2\")\n",
    "b3 = DistribBlock(\"3\")\n",
    "b4 = DistribBlock(\"4\")"
   ]
  },
  {
   "cell_type": "code",
   "execution_count": 51,
   "metadata": {},
   "outputs": [],
   "source": [
    "m.blocks = nn.Sequential(b1, b2, b3, b4)"
   ]
  },
  {
   "cell_type": "code",
   "execution_count": 52,
   "metadata": {},
   "outputs": [
    {
     "name": "stdout",
     "output_type": "stream",
     "text": [
      "10561 parameters\n"
     ]
    }
   ],
   "source": [
    "print(sum(p.numel() for p in m.parameters()), 'parameters') # 10561 vs 209729 for the full one"
   ]
  },
  {
   "cell_type": "code",
   "execution_count": 55,
   "metadata": {},
   "outputs": [
    {
     "name": "stdout",
     "output_type": "stream",
     "text": [
      "\n",
      "HORTo beausd.\n",
      "\n",
      "POMPEY:\n",
      "Lethere belione thou day: where to me's I thung conspiught of this contrangeds on.\n",
      "What joy, who and: what hisfency to doth then ofther bothoutians did,\n",
      "Syeed from this to him s\n"
     ]
    }
   ],
   "source": [
    "print(decode(m.generate(context, max_new_tokens=200)[0].tolist()))"
   ]
  },
  {
   "cell_type": "code",
   "execution_count": null,
   "metadata": {},
   "outputs": [],
   "source": []
  }
 ],
 "metadata": {
  "kernelspec": {
   "display_name": "Python 3",
   "language": "python",
   "name": "python3"
  },
  "language_info": {
   "codemirror_mode": {
    "name": "ipython",
    "version": 3
   },
   "file_extension": ".py",
   "mimetype": "text/x-python",
   "name": "python",
   "nbconvert_exporter": "python",
   "pygments_lexer": "ipython3",
   "version": "3.10.6"
  }
 },
 "nbformat": 4,
 "nbformat_minor": 2
}
